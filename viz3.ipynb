{
 "cells": [
  {
   "cell_type": "code",
   "execution_count": 10,
   "metadata": {},
   "outputs": [],
   "source": [
    "import json\n",
    "import pandas as pd\n",
    "import plotly.graph_objects as go\n",
    "import plotly.express as px\n",
    "from tqdm.auto import tqdm\n",
    "\n",
    "coords_path = 'data/2022-12-17 15:52:24.006277-coords.json'\n",
    "data_path = 'data/2022-12-17 14:46:49.632892-output.json'\n",
    "routes_path = 'data/2022-12-18 01:33:21.284286-company-routes.json'\n",
    "\n",
    "\n",
    "mapbox_access_token = open(\"config/.mapbox_token\").read()\n",
    "px.set_mapbox_access_token(mapbox_access_token)"
   ]
  },
  {
   "cell_type": "code",
   "execution_count": 11,
   "metadata": {},
   "outputs": [],
   "source": [
    "with open(coords_path, 'r') as fid:\n",
    "    coords_data = json.load(fid)\n",
    "\n",
    "with open(data_path, 'r') as fid:\n",
    "    route_data = json.load(fid)\n",
    "\n",
    "with open(routes_path, 'r') as fid:\n",
    "    company_routes_data = json.load(fid)"
   ]
  },
  {
   "cell_type": "code",
   "execution_count": 13,
   "metadata": {},
   "outputs": [
    {
     "data": {
      "text/html": [
       "<div>\n",
       "<style scoped>\n",
       "    .dataframe tbody tr th:only-of-type {\n",
       "        vertical-align: middle;\n",
       "    }\n",
       "\n",
       "    .dataframe tbody tr th {\n",
       "        vertical-align: top;\n",
       "    }\n",
       "\n",
       "    .dataframe thead th {\n",
       "        text-align: right;\n",
       "    }\n",
       "</style>\n",
       "<table border=\"1\" class=\"dataframe\">\n",
       "  <thead>\n",
       "    <tr style=\"text-align: right;\">\n",
       "      <th></th>\n",
       "      <th>company</th>\n",
       "      <th>src</th>\n",
       "      <th>dst</th>\n",
       "      <th>src_x</th>\n",
       "      <th>src_y</th>\n",
       "      <th>dst_x</th>\n",
       "      <th>dst_y</th>\n",
       "    </tr>\n",
       "  </thead>\n",
       "  <tbody>\n",
       "    <tr>\n",
       "      <th>0</th>\n",
       "      <td>1001</td>\n",
       "      <td>sao-paulo-sp</td>\n",
       "      <td>rio-de-janeiro-rj</td>\n",
       "      <td>-46.633382</td>\n",
       "      <td>-23.550651</td>\n",
       "      <td>-43.209373</td>\n",
       "      <td>-22.911014</td>\n",
       "    </tr>\n",
       "    <tr>\n",
       "      <th>1</th>\n",
       "      <td>1001</td>\n",
       "      <td>sao-paulo-sp</td>\n",
       "      <td>cabo-frio-rj</td>\n",
       "      <td>-46.633382</td>\n",
       "      <td>-23.550651</td>\n",
       "      <td>-42.018923</td>\n",
       "      <td>-22.880437</td>\n",
       "    </tr>\n",
       "    <tr>\n",
       "      <th>2</th>\n",
       "      <td>1001</td>\n",
       "      <td>sao-paulo-sp</td>\n",
       "      <td>rio-de-janeiro-rj</td>\n",
       "      <td>-46.633382</td>\n",
       "      <td>-23.550651</td>\n",
       "      <td>-43.209373</td>\n",
       "      <td>-22.911014</td>\n",
       "    </tr>\n",
       "    <tr>\n",
       "      <th>3</th>\n",
       "      <td>1001</td>\n",
       "      <td>sao-paulo-sp</td>\n",
       "      <td>florianopolis-sc</td>\n",
       "      <td>-46.633382</td>\n",
       "      <td>-23.550651</td>\n",
       "      <td>-48.549610</td>\n",
       "      <td>-27.597300</td>\n",
       "    </tr>\n",
       "    <tr>\n",
       "      <th>4</th>\n",
       "      <td>1001</td>\n",
       "      <td>sao-paulo-sp</td>\n",
       "      <td>niteroi-rj</td>\n",
       "      <td>-46.633382</td>\n",
       "      <td>-23.550651</td>\n",
       "      <td>-43.114700</td>\n",
       "      <td>-22.888400</td>\n",
       "    </tr>\n",
       "  </tbody>\n",
       "</table>\n",
       "</div>"
      ],
      "text/plain": [
       "  company           src                dst      src_x      src_y      dst_x  \\\n",
       "0    1001  sao-paulo-sp  rio-de-janeiro-rj -46.633382 -23.550651 -43.209373   \n",
       "1    1001  sao-paulo-sp       cabo-frio-rj -46.633382 -23.550651 -42.018923   \n",
       "2    1001  sao-paulo-sp  rio-de-janeiro-rj -46.633382 -23.550651 -43.209373   \n",
       "3    1001  sao-paulo-sp   florianopolis-sc -46.633382 -23.550651 -48.549610   \n",
       "4    1001  sao-paulo-sp         niteroi-rj -46.633382 -23.550651 -43.114700   \n",
       "\n",
       "       dst_y  \n",
       "0 -22.911014  \n",
       "1 -22.880437  \n",
       "2 -22.911014  \n",
       "3 -27.597300  \n",
       "4 -22.888400  "
      ]
     },
     "execution_count": 13,
     "metadata": {},
     "output_type": "execute_result"
    }
   ],
   "source": [
    "records = []\n",
    "for company, routes in company_routes_data['routes'].items():\n",
    "    for route in routes:\n",
    "        record = {'company': company, 'src': route[0], 'dst': route[1]}\n",
    "        records.append(record)\n",
    "\n",
    "df = pd.DataFrame(records)\n",
    "\n",
    "available_slugs = set(coords_data['coords'].keys())\n",
    "def normalize(s):\n",
    "    for slug in available_slugs:\n",
    "        if slug in s:\n",
    "            return slug\n",
    "        else:\n",
    "            continue\n",
    "    return None\n",
    "\n",
    "df['src'] = df.src.map(normalize)\n",
    "df['dst'] = df.dst.map(normalize)\n",
    "\n",
    "df['src_x'] = df.src.map(lambda x: coords[x][0] if x in coords else None)\n",
    "df['src_y'] = df.src.map(lambda x: coords[x][1] if x in coords else None)\n",
    "df['dst_x'] = df.dst.map(lambda x: coords[x][0] if x in coords else None)\n",
    "df['dst_y'] = df.dst.map(lambda x: coords[x][1] if x in coords else None)\n",
    "df.head(5)\n"
   ]
  },
  {
   "cell_type": "code",
   "execution_count": 19,
   "metadata": {},
   "outputs": [
    {
     "name": "stderr",
     "output_type": "stream",
     "text": [
      "100%|██████████| 2204/2204 [00:10<00:00, 205.53it/s]\n"
     ]
    }
   ],
   "source": [
    "\n",
    "def slug_to_city(slug):\n",
    "    splitted_slug = slug.split(\"-\")\n",
    "    uf = splitted_slug[-1].lower()\n",
    "    place = \" \".join(splitted_slug[0:-1])\n",
    "    address = f'{place} / {uf}'\n",
    "    return address\n",
    "\n",
    "def generate_slug_df(df, slug):\n",
    "    QUERY = f'(src == \"{slug}\" or dst == \"{slug}\")'\n",
    "    fig_df = df.query(QUERY).copy(True)\n",
    "\n",
    "    inds = (fig_df.dst == slug)\n",
    "    orig_df = fig_df.copy(True)\n",
    "    fig_df.loc[inds, 'src'] = orig_df[inds]['dst']\n",
    "    fig_df.loc[inds, 'dst'] = orig_df[inds]['src']\n",
    "    fig_df.loc[inds, 'src_x'] = orig_df[inds]['dst_x']\n",
    "    fig_df.loc[inds, 'src_y'] = orig_df[inds]['dst_y']\n",
    "    fig_df.loc[inds, 'dst_x'] = orig_df[inds]['src_x']\n",
    "    fig_df.loc[inds, 'dst_y'] = orig_df[inds]['src_y']\n",
    "    del orig_df\n",
    "    return fig_df\n",
    "\n",
    "distinct_slugs = set(df.src) | set(df.dst)\n",
    "\n",
    "slug_dfs = {}\n",
    "for slug in tqdm(distinct_slugs):\n",
    "    slug_dfs[slug] = generate_slug_df(df, slug)\n",
    "\n",
    "slug_df = pd.concat(slug_dfs.values())"
   ]
  },
  {
   "cell_type": "code",
   "execution_count": 22,
   "metadata": {},
   "outputs": [
    {
     "data": {
      "application/vnd.plotly.v1+json": {
       "config": {
        "plotlyServerURL": "https://plot.ly"
       },
       "data": [
        {
         "hovertemplate": "<b>%{hovertext}</b><br><br>company=eucatur<br>dst_y=%{lat}<br>dst_x=%{lon}<extra></extra>",
         "hovertext": [
          "cascavel-pr",
          "curitiba-pr",
          "maringa-pr",
          "londrina-pr",
          "campo-mourao-pr",
          "ponta-grossa-pr",
          "toledo-pr",
          "guaira-pr",
          "palotina-pr",
          "presidente-prudente-sp",
          "balneario-camboriu-sc",
          "florianopolis-sc",
          "itajai-sc",
          "criciuma-sc",
          "joinville-sc",
          "tubarao-sc",
          "laguna-sc",
          "imbituba-sc",
          "rio-verde-go",
          "cuiaba-mt",
          "pontes-e-lacerda-mt",
          "comodoro-mt",
          "rondonopolis-mt",
          "caceres-mt",
          "navirai-ms",
          "campo-grande-ms",
          "dourados-ms",
          "sao-gabriel-do-oeste-ms",
          "coxim-ms",
          "mundo-novo-ms",
          "belo-horizonte-mg",
          "uberlandia-mg",
          "rio-branco-ac",
          "porto-velho-ro",
          "porto-velho-ro",
          "jaru-ro",
          "cuiaba-mt",
          "jaru-ro",
          "ouro-preto-do-oeste-ro",
          null,
          "vilhena-ro",
          "pontes-e-lacerda-mt",
          "rondonopolis-mt",
          "comodoro-mt",
          "vilhena-ro",
          "campo-grande-ms",
          null,
          "itapua-do-oeste-ro",
          "cacoal-ro",
          "curitiba-pr",
          "balneario-camboriu-sc",
          "ouro-preto-do-oeste-ro",
          "colorado-do-oeste-ro",
          "cacoal-ro",
          "rolim-de-moura-ro",
          "pimenta-bueno-ro",
          "cascavel-pr",
          "presidente-medici-ro",
          "presidente-prudente-sp",
          "dourados-ms",
          "rolim-de-moura-ro",
          "cerejeiras-ro",
          "presidente-medici-ro",
          "joinville-sc",
          "sao-miguel-do-guapore-ro",
          "pimenta-bueno-ro",
          "itapua-do-oeste-ro",
          "sao-miguel-do-guapore-ro",
          "caceres-mt",
          "rio-branco-ac",
          "cerejeiras-ro",
          "nova-brasilandia-ro",
          "londrina-pr",
          "florianopolis-sc",
          "campo-mourao-pr",
          "maringa-pr",
          "itajai-sc",
          "mundo-novo-ms",
          "ponta-grossa-pr",
          "tubarao-sc",
          "coxim-ms",
          "criciuma-sc",
          "toledo-pr",
          "costa-marques-ro",
          "nova-brasilandia-ro",
          "navirai-ms",
          "colorado-do-oeste-ro",
          "costa-marques-ro",
          "uberlandia-mg",
          "laguna-sc",
          "guaira-pr",
          "imbituba-sc",
          "sao-gabriel-do-oeste-ms",
          "novo-horizonte-ro",
          "novo-horizonte-ro",
          "palotina-pr",
          "belo-horizonte-mg",
          "colatina-es",
          "rio-verde-go",
          "colatina-es"
         ],
         "lat": [
          -24.9554996,
          -25.4295963,
          -23.425269,
          -23.3112878,
          -24.046329,
          -25.0891685,
          -24.7222438,
          -24.0851924,
          -24.2839929,
          -22.1225167,
          -26.9924395,
          -27.5973002,
          -26.9046787,
          -28.6789941,
          -26.3044898,
          -28.471488,
          -28.4837443,
          -28.241827,
          -17.7921255,
          -15.5986686,
          -15.2315171,
          -13.6581107,
          -16.4603533,
          -16.0644315,
          -23.0622152,
          -20.4640173,
          -22.2206145,
          -19.3944843,
          -18.504915,
          -23.9378876,
          -19.9227318,
          -18.9188041,
          -9.9765362,
          -8.7494525,
          -8.7494525,
          -10.431826,
          -15.5986686,
          -10.431826,
          -10.717914,
          null,
          -12.7368536,
          -15.2315171,
          -16.4603533,
          -13.6581107,
          -12.7368536,
          -20.4640173,
          null,
          -9.128,
          -11.4333,
          -25.4295963,
          -26.9924395,
          -10.717914,
          -13.12109915,
          -11.4333,
          -11.727071,
          -11.6767868,
          -24.9554996,
          -11.1686638,
          -22.1225167,
          -22.2206145,
          -11.727071,
          -13.1924248,
          -11.1686638,
          -26.3044898,
          -11.6951466,
          -11.6767868,
          -9.128,
          -11.6951466,
          -16.0644315,
          -9.9765362,
          -13.1924248,
          -11.722692,
          -23.3112878,
          -27.5973002,
          -24.046329,
          -23.425269,
          -26.9046787,
          -23.9378876,
          -25.0891685,
          -28.471488,
          -18.504915,
          -28.6789941,
          -24.7222438,
          -12.4367165,
          -11.722692,
          -23.0622152,
          -13.12109915,
          -12.4367165,
          -18.9188041,
          -28.4837443,
          -24.0851924,
          -28.241827,
          -19.3944843,
          -8.8050694,
          -8.8050694,
          -24.2839929,
          -19.9227318,
          -19.5346732,
          -17.7921255,
          -19.5346732
         ],
         "legendgroup": "eucatur",
         "lon": [
          -53.4560544,
          -49.2712724,
          -51.9382078,
          -51.1595023,
          -52.37802,
          -50.1601812,
          -53.7402476,
          -54.2567519,
          -53.8405463,
          -51.3882528,
          -48.6339782,
          -48.5496098,
          -48.6552979,
          -49.3695627,
          -48.8486726,
          -49.014132,
          -48.7816572,
          -48.6643444,
          -50.9191219,
          -56.0991301,
          -59.3349512,
          -59.786883,
          -54.6397099,
          -57.6879744,
          -54.2018319,
          -54.6162947,
          -54.812208,
          -54.5755213,
          -54.7450251,
          -54.2859489,
          -43.9450948,
          -48.2767837,
          -67.8220778,
          -63.8735438,
          -63.8735438,
          -62.478769,
          -56.0991301,
          -62.478769,
          -62.2566611,
          null,
          -60.1465555,
          -59.3349512,
          -54.6397099,
          -59.786883,
          -60.1465555,
          -54.6162947,
          null,
          -63.123707762557075,
          -61.4420502,
          -49.2712724,
          -48.6339782,
          -62.2566611,
          -60.54207007205348,
          -61.4420502,
          -61.771411,
          -61.1863902,
          -53.4560544,
          -61.9057627,
          -51.3882528,
          -54.812208,
          -61.771411,
          -60.81924455857779,
          -61.9057627,
          -48.8486726,
          -62.7195739,
          -61.1863902,
          -63.123707762557075,
          -62.7195739,
          -57.6879744,
          -67.8220778,
          -60.81924455857779,
          -62.315545,
          -51.1595023,
          -48.5496098,
          -52.37802,
          -51.9382078,
          -48.6552979,
          -54.2859489,
          -50.1601812,
          -49.014132,
          -54.7450251,
          -49.3695627,
          -53.7402476,
          -64.2279765,
          -62.315545,
          -54.2018319,
          -60.54207007205348,
          -64.2279765,
          -48.2767837,
          -48.7816572,
          -54.2567519,
          -48.6643444,
          -54.5755213,
          -63.8964254,
          -63.8964254,
          -53.8405463,
          -43.9450948,
          -40.6287836,
          -50.9191219,
          -40.6287836
         ],
         "marker": {
          "color": "#636efa",
          "size": 5
         },
         "mode": "markers",
         "name": "eucatur",
         "showlegend": true,
         "subplot": "mapbox",
         "type": "scattermapbox"
        },
        {
         "hovertemplate": "<b>%{hovertext}</b><br><br>company=expresso-itamarati<br>dst_y=%{lat}<br>dst_x=%{lon}<extra></extra>",
         "hovertext": [
          "cuiaba-mt",
          "pontes-e-lacerda-mt",
          "comodoro-mt",
          "caceres-mt",
          null,
          "cuiaba-mt",
          "pontes-e-lacerda-mt",
          "comodoro-mt",
          "jatai-go",
          "caceres-mt",
          "jatai-go"
         ],
         "lat": [
          -15.5986686,
          -15.2315171,
          -13.6581107,
          -16.0644315,
          null,
          -15.5986686,
          -15.2315171,
          -13.6581107,
          -17.8783829,
          -16.0644315,
          -17.8783829
         ],
         "legendgroup": "expresso-itamarati",
         "lon": [
          -56.0991301,
          -59.3349512,
          -59.786883,
          -57.6879744,
          null,
          -56.0991301,
          -59.3349512,
          -59.786883,
          -51.7204241,
          -57.6879744,
          -51.7204241
         ],
         "marker": {
          "color": "#EF553B",
          "size": 5
         },
         "mode": "markers",
         "name": "expresso-itamarati",
         "showlegend": true,
         "subplot": "mapbox",
         "type": "scattermapbox"
        },
        {
         "hovertemplate": "<b>%{hovertext}</b><br><br>company=gontijo<br>dst_y=%{lat}<br>dst_x=%{lon}<extra></extra>",
         "hovertext": [
          "sao-paulo-sp",
          "jatai-go",
          "ituiutaba-mg",
          "uberlandia-mg",
          "ipatinga-mg",
          "alto-garcas-mt",
          "alto-araguaia-mt",
          "ituiutaba-mg",
          "jatai-go",
          "alto-garcas-mt",
          "alto-araguaia-mt",
          "sao-paulo-sp",
          "uberlandia-mg"
         ],
         "lat": [
          -23.5506507,
          -17.8783829,
          -18.9691887,
          -18.9188041,
          -19.4777807,
          -16.9469683,
          -17.3156528,
          -18.9691887,
          -17.8783829,
          -16.9469683,
          -17.3156528,
          -23.5506507,
          -18.9188041
         ],
         "legendgroup": "gontijo",
         "lon": [
          -46.6333824,
          -51.7204241,
          -49.4639335,
          -48.2767837,
          -42.5270802,
          -53.529427,
          -53.2169365,
          -49.4639335,
          -51.7204241,
          -53.529427,
          -53.2169365,
          -46.6333824,
          -48.2767837
         ],
         "marker": {
          "color": "#00cc96",
          "size": 5
         },
         "mode": "markers",
         "name": "gontijo",
         "showlegend": true,
         "subplot": "mapbox",
         "type": "scattermapbox"
        },
        {
         "hovertemplate": "<b>%{hovertext}</b><br><br>company=marlim<br>dst_y=%{lat}<br>dst_x=%{lon}<extra></extra>",
         "hovertext": [
          "comodoro-mt",
          "sinop-mt",
          "lucas-do-rio-verde-mt",
          "sorriso-mt",
          "comodoro-mt",
          "nova-mutum-mt",
          "sinop-mt",
          "lucas-do-rio-verde-mt"
         ],
         "lat": [
          -13.6581107,
          -11.8508224,
          -13.0664609,
          -12.5444887,
          -13.6581107,
          -13.8255015,
          -11.8508224,
          -13.0664609
         ],
         "legendgroup": "marlim",
         "lon": [
          -59.786883,
          -55.5175957,
          -55.9196711,
          -55.7233972,
          -59.786883,
          -56.0849262,
          -55.5175957,
          -55.9196711
         ],
         "marker": {
          "color": "#ab63fa",
          "size": 5
         },
         "mode": "markers",
         "name": "marlim",
         "showlegend": true,
         "subplot": "mapbox",
         "type": "scattermapbox"
        },
        {
         "hovertemplate": "<b>%{hovertext}</b><br><br>company=matriz<br>dst_y=%{lat}<br>dst_x=%{lon}<extra></extra>",
         "hovertext": [
          "goiania-go",
          "cuiaba-mt",
          "pontes-e-lacerda-mt",
          "comodoro-mt",
          "caceres-mt",
          "rio-branco-ac",
          "cuiaba-mt",
          "pontes-e-lacerda-mt",
          "comodoro-mt",
          "goiania-go",
          "caceres-mt",
          "rio-branco-ac",
          "primavera-do-leste-mt"
         ],
         "lat": [
          -16.680882,
          -15.5986686,
          -15.2315171,
          -13.6581107,
          -16.0644315,
          -9.9765362,
          -15.5986686,
          -15.2315171,
          -13.6581107,
          -16.680882,
          -16.0644315,
          -9.9765362,
          -15.5614127
         ],
         "legendgroup": "matriz",
         "lon": [
          -49.2532691,
          -56.0991301,
          -59.3349512,
          -59.786883,
          -57.6879744,
          -67.8220778,
          -56.0991301,
          -59.3349512,
          -59.786883,
          -49.2532691,
          -57.6879744,
          -67.8220778,
          -54.2993946
         ],
         "marker": {
          "color": "#FFA15A",
          "size": 5
         },
         "mode": "markers",
         "name": "matriz",
         "showlegend": true,
         "subplot": "mapbox",
         "type": "scattermapbox"
        },
        {
         "hovertemplate": "<b>%{hovertext}</b><br><br>company=serra-azul<br>dst_y=%{lat}<br>dst_x=%{lon}<extra></extra>",
         "hovertext": [
          "porto-velho-ro",
          "porto-velho-ro",
          "jaru-ro",
          "jaru-ro",
          null,
          "vilhena-ro",
          "rondonopolis-mt",
          "vilhena-ro",
          "campo-grande-ms",
          null,
          "cacoal-ro",
          "cacoal-ro",
          "pimenta-bueno-ro",
          "cascavel-pr",
          "ouro-preto-3-coqueiros-ro",
          "dourados-ms",
          "ouro-preto-3-coqueiros-ro",
          "pimenta-bueno-ro",
          "mundo-novo-ms",
          "coxim-ms",
          "toledo-pr",
          "navirai-ms",
          "guaira-pr",
          "sao-gabriel-do-oeste-ms",
          "navirai-ms",
          "campo-grande-ms",
          "dourados-ms",
          "sao-gabriel-do-oeste-ms",
          "coxim-ms",
          "mundo-novo-ms",
          "cascavel-pr",
          "toledo-pr",
          "guaira-pr",
          "rondonopolis-mt"
         ],
         "lat": [
          -8.7494525,
          -8.7494525,
          -10.431826,
          -10.431826,
          null,
          -12.7368536,
          -16.4603533,
          -12.7368536,
          -20.4640173,
          null,
          -11.4333,
          -11.4333,
          -11.6767868,
          -24.9554996,
          null,
          -22.2206145,
          null,
          -11.6767868,
          -23.9378876,
          -18.504915,
          -24.7222438,
          -23.0622152,
          -24.0851924,
          -19.3944843,
          -23.0622152,
          -20.4640173,
          -22.2206145,
          -19.3944843,
          -18.504915,
          -23.9378876,
          -24.9554996,
          -24.7222438,
          -24.0851924,
          -16.4603533
         ],
         "legendgroup": "serra-azul",
         "lon": [
          -63.8735438,
          -63.8735438,
          -62.478769,
          -62.478769,
          null,
          -60.1465555,
          -54.6397099,
          -60.1465555,
          -54.6162947,
          null,
          -61.4420502,
          -61.4420502,
          -61.1863902,
          -53.4560544,
          null,
          -54.812208,
          null,
          -61.1863902,
          -54.2859489,
          -54.7450251,
          -53.7402476,
          -54.2018319,
          -54.2567519,
          -54.5755213,
          -54.2018319,
          -54.6162947,
          -54.812208,
          -54.5755213,
          -54.7450251,
          -54.2859489,
          -53.4560544,
          -53.7402476,
          -54.2567519,
          -54.6397099
         ],
         "marker": {
          "color": "#19d3f3",
          "size": 5
         },
         "mode": "markers",
         "name": "serra-azul",
         "showlegend": true,
         "subplot": "mapbox",
         "type": "scattermapbox"
        },
        {
         "lat": [
          -9.9076522
         ],
         "lon": [
          -63.033069
         ],
         "marker": {
          "color": "white",
          "size": 8,
          "symbol": "square"
         },
         "mode": "markers",
         "name": "source",
         "type": "scattermapbox"
        }
       ],
       "layout": {
        "height": 800,
        "legend": {
         "title": {
          "text": "company"
         },
         "tracegroupgap": 0
        },
        "mapbox": {
         "accesstoken": "pk.eyJ1IjoiZGFubGVzc2EiLCJhIjoiY2p1MWpqcW0zMDJjNjQ0bjdpYzAzaXA3YSJ9.6xWCxX6U_GRQC7ZSDvNN2Q",
         "center": {
          "lat": -17.953112694767455,
          "lon": -55.54235238829291
         },
         "domain": {
          "x": [
           0,
           1
          ],
          "y": [
           0,
           1
          ]
         },
         "style": "dark",
         "zoom": 3
        },
        "margin": {
         "t": 60
        },
        "showlegend": true,
        "template": {
         "data": {
          "bar": [
           {
            "error_x": {
             "color": "#2a3f5f"
            },
            "error_y": {
             "color": "#2a3f5f"
            },
            "marker": {
             "line": {
              "color": "#E5ECF6",
              "width": 0.5
             },
             "pattern": {
              "fillmode": "overlay",
              "size": 10,
              "solidity": 0.2
             }
            },
            "type": "bar"
           }
          ],
          "barpolar": [
           {
            "marker": {
             "line": {
              "color": "#E5ECF6",
              "width": 0.5
             },
             "pattern": {
              "fillmode": "overlay",
              "size": 10,
              "solidity": 0.2
             }
            },
            "type": "barpolar"
           }
          ],
          "carpet": [
           {
            "aaxis": {
             "endlinecolor": "#2a3f5f",
             "gridcolor": "white",
             "linecolor": "white",
             "minorgridcolor": "white",
             "startlinecolor": "#2a3f5f"
            },
            "baxis": {
             "endlinecolor": "#2a3f5f",
             "gridcolor": "white",
             "linecolor": "white",
             "minorgridcolor": "white",
             "startlinecolor": "#2a3f5f"
            },
            "type": "carpet"
           }
          ],
          "choropleth": [
           {
            "colorbar": {
             "outlinewidth": 0,
             "ticks": ""
            },
            "type": "choropleth"
           }
          ],
          "contour": [
           {
            "colorbar": {
             "outlinewidth": 0,
             "ticks": ""
            },
            "colorscale": [
             [
              0,
              "#0d0887"
             ],
             [
              0.1111111111111111,
              "#46039f"
             ],
             [
              0.2222222222222222,
              "#7201a8"
             ],
             [
              0.3333333333333333,
              "#9c179e"
             ],
             [
              0.4444444444444444,
              "#bd3786"
             ],
             [
              0.5555555555555556,
              "#d8576b"
             ],
             [
              0.6666666666666666,
              "#ed7953"
             ],
             [
              0.7777777777777778,
              "#fb9f3a"
             ],
             [
              0.8888888888888888,
              "#fdca26"
             ],
             [
              1,
              "#f0f921"
             ]
            ],
            "type": "contour"
           }
          ],
          "contourcarpet": [
           {
            "colorbar": {
             "outlinewidth": 0,
             "ticks": ""
            },
            "type": "contourcarpet"
           }
          ],
          "heatmap": [
           {
            "colorbar": {
             "outlinewidth": 0,
             "ticks": ""
            },
            "colorscale": [
             [
              0,
              "#0d0887"
             ],
             [
              0.1111111111111111,
              "#46039f"
             ],
             [
              0.2222222222222222,
              "#7201a8"
             ],
             [
              0.3333333333333333,
              "#9c179e"
             ],
             [
              0.4444444444444444,
              "#bd3786"
             ],
             [
              0.5555555555555556,
              "#d8576b"
             ],
             [
              0.6666666666666666,
              "#ed7953"
             ],
             [
              0.7777777777777778,
              "#fb9f3a"
             ],
             [
              0.8888888888888888,
              "#fdca26"
             ],
             [
              1,
              "#f0f921"
             ]
            ],
            "type": "heatmap"
           }
          ],
          "heatmapgl": [
           {
            "colorbar": {
             "outlinewidth": 0,
             "ticks": ""
            },
            "colorscale": [
             [
              0,
              "#0d0887"
             ],
             [
              0.1111111111111111,
              "#46039f"
             ],
             [
              0.2222222222222222,
              "#7201a8"
             ],
             [
              0.3333333333333333,
              "#9c179e"
             ],
             [
              0.4444444444444444,
              "#bd3786"
             ],
             [
              0.5555555555555556,
              "#d8576b"
             ],
             [
              0.6666666666666666,
              "#ed7953"
             ],
             [
              0.7777777777777778,
              "#fb9f3a"
             ],
             [
              0.8888888888888888,
              "#fdca26"
             ],
             [
              1,
              "#f0f921"
             ]
            ],
            "type": "heatmapgl"
           }
          ],
          "histogram": [
           {
            "marker": {
             "pattern": {
              "fillmode": "overlay",
              "size": 10,
              "solidity": 0.2
             }
            },
            "type": "histogram"
           }
          ],
          "histogram2d": [
           {
            "colorbar": {
             "outlinewidth": 0,
             "ticks": ""
            },
            "colorscale": [
             [
              0,
              "#0d0887"
             ],
             [
              0.1111111111111111,
              "#46039f"
             ],
             [
              0.2222222222222222,
              "#7201a8"
             ],
             [
              0.3333333333333333,
              "#9c179e"
             ],
             [
              0.4444444444444444,
              "#bd3786"
             ],
             [
              0.5555555555555556,
              "#d8576b"
             ],
             [
              0.6666666666666666,
              "#ed7953"
             ],
             [
              0.7777777777777778,
              "#fb9f3a"
             ],
             [
              0.8888888888888888,
              "#fdca26"
             ],
             [
              1,
              "#f0f921"
             ]
            ],
            "type": "histogram2d"
           }
          ],
          "histogram2dcontour": [
           {
            "colorbar": {
             "outlinewidth": 0,
             "ticks": ""
            },
            "colorscale": [
             [
              0,
              "#0d0887"
             ],
             [
              0.1111111111111111,
              "#46039f"
             ],
             [
              0.2222222222222222,
              "#7201a8"
             ],
             [
              0.3333333333333333,
              "#9c179e"
             ],
             [
              0.4444444444444444,
              "#bd3786"
             ],
             [
              0.5555555555555556,
              "#d8576b"
             ],
             [
              0.6666666666666666,
              "#ed7953"
             ],
             [
              0.7777777777777778,
              "#fb9f3a"
             ],
             [
              0.8888888888888888,
              "#fdca26"
             ],
             [
              1,
              "#f0f921"
             ]
            ],
            "type": "histogram2dcontour"
           }
          ],
          "mesh3d": [
           {
            "colorbar": {
             "outlinewidth": 0,
             "ticks": ""
            },
            "type": "mesh3d"
           }
          ],
          "parcoords": [
           {
            "line": {
             "colorbar": {
              "outlinewidth": 0,
              "ticks": ""
             }
            },
            "type": "parcoords"
           }
          ],
          "pie": [
           {
            "automargin": true,
            "type": "pie"
           }
          ],
          "scatter": [
           {
            "fillpattern": {
             "fillmode": "overlay",
             "size": 10,
             "solidity": 0.2
            },
            "type": "scatter"
           }
          ],
          "scatter3d": [
           {
            "line": {
             "colorbar": {
              "outlinewidth": 0,
              "ticks": ""
             }
            },
            "marker": {
             "colorbar": {
              "outlinewidth": 0,
              "ticks": ""
             }
            },
            "type": "scatter3d"
           }
          ],
          "scattercarpet": [
           {
            "marker": {
             "colorbar": {
              "outlinewidth": 0,
              "ticks": ""
             }
            },
            "type": "scattercarpet"
           }
          ],
          "scattergeo": [
           {
            "marker": {
             "colorbar": {
              "outlinewidth": 0,
              "ticks": ""
             }
            },
            "type": "scattergeo"
           }
          ],
          "scattergl": [
           {
            "marker": {
             "colorbar": {
              "outlinewidth": 0,
              "ticks": ""
             }
            },
            "type": "scattergl"
           }
          ],
          "scattermapbox": [
           {
            "marker": {
             "colorbar": {
              "outlinewidth": 0,
              "ticks": ""
             }
            },
            "type": "scattermapbox"
           }
          ],
          "scatterpolar": [
           {
            "marker": {
             "colorbar": {
              "outlinewidth": 0,
              "ticks": ""
             }
            },
            "type": "scatterpolar"
           }
          ],
          "scatterpolargl": [
           {
            "marker": {
             "colorbar": {
              "outlinewidth": 0,
              "ticks": ""
             }
            },
            "type": "scatterpolargl"
           }
          ],
          "scatterternary": [
           {
            "marker": {
             "colorbar": {
              "outlinewidth": 0,
              "ticks": ""
             }
            },
            "type": "scatterternary"
           }
          ],
          "surface": [
           {
            "colorbar": {
             "outlinewidth": 0,
             "ticks": ""
            },
            "colorscale": [
             [
              0,
              "#0d0887"
             ],
             [
              0.1111111111111111,
              "#46039f"
             ],
             [
              0.2222222222222222,
              "#7201a8"
             ],
             [
              0.3333333333333333,
              "#9c179e"
             ],
             [
              0.4444444444444444,
              "#bd3786"
             ],
             [
              0.5555555555555556,
              "#d8576b"
             ],
             [
              0.6666666666666666,
              "#ed7953"
             ],
             [
              0.7777777777777778,
              "#fb9f3a"
             ],
             [
              0.8888888888888888,
              "#fdca26"
             ],
             [
              1,
              "#f0f921"
             ]
            ],
            "type": "surface"
           }
          ],
          "table": [
           {
            "cells": {
             "fill": {
              "color": "#EBF0F8"
             },
             "line": {
              "color": "white"
             }
            },
            "header": {
             "fill": {
              "color": "#C8D4E3"
             },
             "line": {
              "color": "white"
             }
            },
            "type": "table"
           }
          ]
         },
         "layout": {
          "annotationdefaults": {
           "arrowcolor": "#2a3f5f",
           "arrowhead": 0,
           "arrowwidth": 1
          },
          "autotypenumbers": "strict",
          "coloraxis": {
           "colorbar": {
            "outlinewidth": 0,
            "ticks": ""
           }
          },
          "colorscale": {
           "diverging": [
            [
             0,
             "#8e0152"
            ],
            [
             0.1,
             "#c51b7d"
            ],
            [
             0.2,
             "#de77ae"
            ],
            [
             0.3,
             "#f1b6da"
            ],
            [
             0.4,
             "#fde0ef"
            ],
            [
             0.5,
             "#f7f7f7"
            ],
            [
             0.6,
             "#e6f5d0"
            ],
            [
             0.7,
             "#b8e186"
            ],
            [
             0.8,
             "#7fbc41"
            ],
            [
             0.9,
             "#4d9221"
            ],
            [
             1,
             "#276419"
            ]
           ],
           "sequential": [
            [
             0,
             "#0d0887"
            ],
            [
             0.1111111111111111,
             "#46039f"
            ],
            [
             0.2222222222222222,
             "#7201a8"
            ],
            [
             0.3333333333333333,
             "#9c179e"
            ],
            [
             0.4444444444444444,
             "#bd3786"
            ],
            [
             0.5555555555555556,
             "#d8576b"
            ],
            [
             0.6666666666666666,
             "#ed7953"
            ],
            [
             0.7777777777777778,
             "#fb9f3a"
            ],
            [
             0.8888888888888888,
             "#fdca26"
            ],
            [
             1,
             "#f0f921"
            ]
           ],
           "sequentialminus": [
            [
             0,
             "#0d0887"
            ],
            [
             0.1111111111111111,
             "#46039f"
            ],
            [
             0.2222222222222222,
             "#7201a8"
            ],
            [
             0.3333333333333333,
             "#9c179e"
            ],
            [
             0.4444444444444444,
             "#bd3786"
            ],
            [
             0.5555555555555556,
             "#d8576b"
            ],
            [
             0.6666666666666666,
             "#ed7953"
            ],
            [
             0.7777777777777778,
             "#fb9f3a"
            ],
            [
             0.8888888888888888,
             "#fdca26"
            ],
            [
             1,
             "#f0f921"
            ]
           ]
          },
          "colorway": [
           "#636efa",
           "#EF553B",
           "#00cc96",
           "#ab63fa",
           "#FFA15A",
           "#19d3f3",
           "#FF6692",
           "#B6E880",
           "#FF97FF",
           "#FECB52"
          ],
          "font": {
           "color": "#2a3f5f"
          },
          "geo": {
           "bgcolor": "white",
           "lakecolor": "white",
           "landcolor": "#E5ECF6",
           "showlakes": true,
           "showland": true,
           "subunitcolor": "white"
          },
          "hoverlabel": {
           "align": "left"
          },
          "hovermode": "closest",
          "mapbox": {
           "style": "light"
          },
          "paper_bgcolor": "white",
          "plot_bgcolor": "#E5ECF6",
          "polar": {
           "angularaxis": {
            "gridcolor": "white",
            "linecolor": "white",
            "ticks": ""
           },
           "bgcolor": "#E5ECF6",
           "radialaxis": {
            "gridcolor": "white",
            "linecolor": "white",
            "ticks": ""
           }
          },
          "scene": {
           "xaxis": {
            "backgroundcolor": "#E5ECF6",
            "gridcolor": "white",
            "gridwidth": 2,
            "linecolor": "white",
            "showbackground": true,
            "ticks": "",
            "zerolinecolor": "white"
           },
           "yaxis": {
            "backgroundcolor": "#E5ECF6",
            "gridcolor": "white",
            "gridwidth": 2,
            "linecolor": "white",
            "showbackground": true,
            "ticks": "",
            "zerolinecolor": "white"
           },
           "zaxis": {
            "backgroundcolor": "#E5ECF6",
            "gridcolor": "white",
            "gridwidth": 2,
            "linecolor": "white",
            "showbackground": true,
            "ticks": "",
            "zerolinecolor": "white"
           }
          },
          "shapedefaults": {
           "line": {
            "color": "#2a3f5f"
           }
          },
          "ternary": {
           "aaxis": {
            "gridcolor": "white",
            "linecolor": "white",
            "ticks": ""
           },
           "baxis": {
            "gridcolor": "white",
            "linecolor": "white",
            "ticks": ""
           },
           "bgcolor": "#E5ECF6",
           "caxis": {
            "gridcolor": "white",
            "linecolor": "white",
            "ticks": ""
           }
          },
          "title": {
           "x": 0.05
          },
          "xaxis": {
           "automargin": true,
           "gridcolor": "white",
           "linecolor": "white",
           "ticks": "",
           "title": {
            "standoff": 15
           },
           "zerolinecolor": "white",
           "zerolinewidth": 2
          },
          "yaxis": {
           "automargin": true,
           "gridcolor": "white",
           "linecolor": "white",
           "ticks": "",
           "title": {
            "standoff": 15
           },
           "zerolinecolor": "white",
           "zerolinewidth": 2
          }
         }
        }
       }
      }
     },
     "metadata": {},
     "output_type": "display_data"
    }
   ],
   "source": [
    "fig_df = slug_df.query(\"src == 'ariquemes-ro'\")\n",
    "\n",
    "fig = px.scatter_mapbox(fig_df,\n",
    "                     lon='dst_x',\n",
    "                      lat='dst_y', \n",
    "                     color='company',\n",
    "                     hover_name='dst',\n",
    "                     height=800)\n",
    "\n",
    "fig.update_traces(marker=dict(size=5))\n",
    "\n",
    "fig.add_trace(go.Scattermapbox(\n",
    "    name='source',\n",
    "    lon = [fig_df.src_x.unique()[0]],\n",
    "    lat = [fig_df.src_y.unique()[0]],\n",
    "    mode = 'markers',\n",
    "    marker = dict(\n",
    "        symbol='square',\n",
    "        size = 8,\n",
    "        color = 'white'\n",
    "    )\n",
    "    )\n",
    "    )\n",
    "\n",
    "# fig.update_geos(fitbounds=\"locations\", projection_type='orthographic',\n",
    "#     resolution=50,\n",
    "#     showcoastlines=True, coastlinecolor=\"RebeccaPurple\",\n",
    "#     showocean=True, oceancolor=\"LightBlue\",\n",
    "#     showlakes=True, lakecolor=\"LightBlue\",\n",
    "#     showrivers=True, rivercolor=\"LightBlue\",\n",
    "#         showcountries=True, countrycolor=\"Black\")\n",
    "fig.update_layout(\n",
    "    mapbox = {\n",
    "        'accesstoken': mapbox_access_token,\n",
    "        'style': \"dark\", 'zoom': 3},\n",
    "    showlegend = True)\n",
    "\n",
    "fig.show()"
   ]
  },
  {
   "cell_type": "code",
   "execution_count": null,
   "metadata": {},
   "outputs": [],
   "source": []
  }
 ],
 "metadata": {
  "kernelspec": {
   "display_name": "Python 3.9.5 ('base')",
   "language": "python",
   "name": "python3"
  },
  "language_info": {
   "codemirror_mode": {
    "name": "ipython",
    "version": 3
   },
   "file_extension": ".py",
   "mimetype": "text/x-python",
   "name": "python",
   "nbconvert_exporter": "python",
   "pygments_lexer": "ipython3",
   "version": "3.9.5"
  },
  "orig_nbformat": 4,
  "vscode": {
   "interpreter": {
    "hash": "e7cb1b9ae4d417fedf7f40a8eec98f7cfbd359e096bd857395a915f4609834ce"
   }
  }
 },
 "nbformat": 4,
 "nbformat_minor": 2
}
